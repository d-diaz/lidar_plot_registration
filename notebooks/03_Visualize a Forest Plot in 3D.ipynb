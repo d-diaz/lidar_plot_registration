{
 "cells": [
  {
   "cell_type": "code",
   "execution_count": 1,
   "metadata": {},
   "outputs": [],
   "source": [
    "from forest3d.visualize import plot_tree_list"
   ]
  },
  {
   "cell_type": "markdown",
   "metadata": {},
   "source": [
    "## Visualize a stem map\n",
    "Here, you can enter the path to your treelist, which can be a text (.csv) file, a shapefile (.shp) or a pandas DataFrame or geopandas GeoDataFrame. Each species in your treelist will be represented with the same color.\n",
    "\n",
    "You also have the option to specify a Digital Elevation Model (DEM), which should be a raster format (e.g., a GeoTiff). Providing a DEM will place the trees on the terrain. \n",
    "\n",
    "If your tree list is very large, you may run into difficulty rendering the 3D model depending on your computer's available memory. You can specify a sample of trees to render from the tree list, which will be randomly selected. If you're unsure whether your tree list is too big. Start off with a smaller number, and work your way up..."
   ]
  },
  {
   "cell_type": "code",
   "execution_count": 6,
   "metadata": {},
   "outputs": [
    {
     "data": {
      "application/vnd.jupyter.widget-view+json": {
       "model_id": "6a22bd554a3042d3ab33e3775e38e77b",
       "version_major": 2,
       "version_minor": 0
      },
      "text/plain": [
       "VBox(children=(Figure(camera=PerspectiveCamera(fov=46.0, position=(0.0, 0.0, 2.0), quaternion=(0.0, 0.0, 0.0, …"
      ]
     },
     "metadata": {},
     "output_type": "display_data"
    }
   ],
   "source": [
    "plot_tree_list(tree_list = '../data/processed/wind_river/wind_river_tree_list.shp',\n",
    "               dem = '../data/processed/wind_river/wind_river_elevation.tif', \n",
    "               sample=200)"
   ]
  },
  {
   "cell_type": "markdown",
   "metadata": {},
   "source": [
    "### Just for fun, visualizing a \"Random Forest\"\n",
    "Plot a tree list with randomly-shaped trees."
   ]
  },
  {
   "cell_type": "code",
   "execution_count": 1,
   "metadata": {},
   "outputs": [],
   "source": [
    "import numpy as np\n",
    "import ipyvolume as ipv\n",
    "import seaborn as sns\n",
    "from forest3d.geometry import Tree"
   ]
  },
  {
   "cell_type": "code",
   "execution_count": 2,
   "metadata": {},
   "outputs": [],
   "source": [
    "def random_tree():\n",
    "    species = 'Douglas-fir'\n",
    "    dbh = np.random.rand()*40\n",
    "    ht = np.random.randint(low=50,high=200)\n",
    "    crown_ratio = np.random.randint(low=40,high=95)/100\n",
    "    stem_x = np.random.rand()*500 - 250\n",
    "    stem_y = np.random.rand()*500 - 250\n",
    "    stem_z = np.random.rand()*10 - 5\n",
    "    crown_radii = np.random.randint(low=10,high=80,size=4)/100*ht\n",
    "    crown_edge_heights = np.random.rand(4)\n",
    "    crown_shapes = np.random.randint(low=50,high=300,size=(2,4))/100\n",
    "    lean_direction = np.random.rand()*360\n",
    "    lean_severity = np.random.rand()*10\n",
    "    return Tree(species, dbh, ht, stem_x, stem_y, stem_z, lean_direction, lean_severity, crown_ratio, crown_radii, crown_edge_heights, crown_shapes).get_crown()\n",
    "    "
   ]
  },
  {
   "cell_type": "code",
   "execution_count": 18,
   "metadata": {},
   "outputs": [],
   "source": [
    "def random_forest(num_trees=15):\n",
    "    palette = sns.color_palette(\"colorblind\", num_trees)\n",
    "    ipv.figure()\n",
    "    for i in range(num_trees):\n",
    "        x,y,z = random_tree()\n",
    "        ipv.plot_wireframe(x.reshape((50,32)), y.reshape((50,32)), z.reshape((50,32)),\n",
    "                         color=[palette[np.random.randint(0, len(palette))]])\n",
    "    ipv.show()"
   ]
  },
  {
   "cell_type": "code",
   "execution_count": 19,
   "metadata": {},
   "outputs": [
    {
     "data": {
      "application/vnd.jupyter.widget-view+json": {
       "model_id": "d40571b685374ea08f3b3abbbabab9ca",
       "version_major": 2,
       "version_minor": 0
      },
      "text/plain": [
       "Container(figure=Figure(box_center=[0.5, 0.5, 0.5], box_size=[1.0, 1.0, 1.0], camera=PerspectiveCamera(fov=45.…"
      ]
     },
     "metadata": {},
     "output_type": "display_data"
    }
   ],
   "source": [
    "random_forest()"
   ]
  },
  {
   "cell_type": "code",
   "execution_count": null,
   "metadata": {},
   "outputs": [],
   "source": []
  }
 ],
 "metadata": {
  "kernelspec": {
   "display_name": "forest3d",
   "language": "python",
   "name": "python3"
  },
  "language_info": {
   "codemirror_mode": {
    "name": "ipython",
    "version": 3
   },
   "file_extension": ".py",
   "mimetype": "text/x-python",
   "name": "python",
   "nbconvert_exporter": "python",
   "pygments_lexer": "ipython3",
   "version": "3.12.7"
  }
 },
 "nbformat": 4,
 "nbformat_minor": 2
}
