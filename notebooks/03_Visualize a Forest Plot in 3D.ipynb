{
 "cells": [
  {
   "cell_type": "code",
   "execution_count": null,
   "metadata": {},
   "outputs": [],
   "source": [
    "from forest3d.visualize import plot_tree_list"
   ]
  },
  {
   "cell_type": "markdown",
   "metadata": {},
   "source": [
    "## Visualize a stem map\n",
    "Here, you can enter the path to your treelist, which can be a text (.csv) file, a shapefile (.shp) or a pandas DataFrame or geopandas GeoDataFrame. Each species in your treelist will be represented with the same color.\n",
    "\n",
    "You also have the option to specify a Digital Elevation Model (DEM), which should be a raster format (e.g., a GeoTiff). Providing a DEM will place the trees on the terrain. \n",
    "\n",
    "If your tree list is very large, you may run into difficulty rendering the 3D model depending on your computer's available memory. You can specify a sample of trees to render from the tree list, which will be randomly selected. If you're unsure whether your tree list is too big. Start off with a smaller number, and work your way up..."
   ]
  },
  {
   "cell_type": "code",
   "execution_count": null,
   "metadata": {},
   "outputs": [],
   "source": [
    "plot_tree_list(\n",
    "    tree_list=\"../data/processed/wind_river/wind_river_tree_list.shp\",\n",
    "    dem=\"../data/processed/wind_river/wind_river_elevation.tif\",\n",
    "    sample=200,\n",
    ")\n"
   ]
  },
  {
   "cell_type": "markdown",
   "metadata": {},
   "source": [
    "### Just for fun, visualizing a \"Random Forest\"\n",
    "Plot a tree list with randomly-shaped trees."
   ]
  },
  {
   "cell_type": "code",
   "execution_count": null,
   "metadata": {},
   "outputs": [],
   "source": [
    "import ipyvolume as ipv\n",
    "import numpy as np\n",
    "import seaborn as sns\n",
    "from forest3d.geometry import Tree"
   ]
  },
  {
   "cell_type": "code",
   "execution_count": null,
   "metadata": {},
   "outputs": [],
   "source": [
    "def random_tree_crown():\n",
    "    \"\"\"Generates a random tree crown.\"\"\"\n",
    "    dbh=np.random.rand() * 40\n",
    "    top_height=np.random.randint(low=50, high=200)\n",
    "    crown_ratio=np.random.randint(low=40, high=95) / 100\n",
    "    stem_x=np.random.rand() * 500 - 250\n",
    "    stem_y=np.random.rand() * 500 - 250\n",
    "    stem_z=np.random.rand() * 10 - 5\n",
    "    crown_radii=np.random.randint(low=10, high=80, size=4) / 100 * top_height\n",
    "    crown_edge_heights=np.random.rand(4)\n",
    "    crown_shapes=np.random.randint(low=50, high=300, size=(2, 4)) / 100\n",
    "    lean_direction=np.random.rand() * 360\n",
    "    lean_severity=np.random.rand() * 10\n",
    "    tree = Tree(\n",
    "        species=\"Douglas-fir\",\n",
    "        dbh=dbh,\n",
    "        top_height=top_height,\n",
    "        stem_x=stem_x,\n",
    "        stem_y=stem_y,\n",
    "        stem_z=stem_z,\n",
    "        crown_ratio=crown_ratio,\n",
    "        crown_radii=crown_radii,\n",
    "        crown_edge_heights=crown_edge_heights,\n",
    "        crown_shape=crown_shapes,\n",
    "        lean_direction=lean_direction,\n",
    "        lean_severity=lean_severity,\n",
    "    )\n",
    "\n",
    "    return tree.crown"
   ]
  },
  {
   "cell_type": "code",
   "execution_count": null,
   "metadata": {},
   "outputs": [],
   "source": [
    "def random_forest(num_trees=15):\n",
    "    \"\"\"Plots a forest of randomly-generated tree crowns.\"\"\"\n",
    "    palette = sns.color_palette(\"colorblind\", num_trees)\n",
    "    ipv.figure()\n",
    "    for i in range(num_trees):\n",
    "        x, y, z = random_tree_crown()\n",
    "        ipv.plot_wireframe(\n",
    "            x.reshape((50, 32)),\n",
    "            y.reshape((50, 32)),\n",
    "            z.reshape((50, 32)),\n",
    "            color=[palette[np.random.randint(0, len(palette))]],\n",
    "        )\n",
    "    ipv.show()"
   ]
  },
  {
   "cell_type": "code",
   "execution_count": null,
   "metadata": {},
   "outputs": [],
   "source": [
    "random_forest()"
   ]
  }
 ],
 "metadata": {
  "kernelspec": {
   "display_name": "forest3d",
   "language": "python",
   "name": "python3"
  },
  "language_info": {
   "codemirror_mode": {
    "name": "ipython",
    "version": 3
   },
   "file_extension": ".py",
   "mimetype": "text/x-python",
   "name": "python",
   "nbconvert_exporter": "python",
   "pygments_lexer": "ipython3",
   "version": "3.12.7"
  }
 },
 "nbformat": 4,
 "nbformat_minor": 2
}
