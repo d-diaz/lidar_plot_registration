{
 "cells": [
  {
   "cell_type": "markdown",
   "metadata": {},
   "source": [
    "# How we are modeling individual trees\n",
    "Several geometric models have been described for approximating the shape of a tree crown.\n",
    "<img src='../reports/figures/Koop_1989_TreeModel.PNG' width='350' align='right'>\n",
    "\n",
    "In this project, we utilize an asymmetric hull model, described originally by Koop (1989) and shown in the graphic to the right, and applied later by researchers including Cescatti (1997), Sheng et al. (2001), and Pradal et al. (2009). \n",
    "\n",
    "This flexibility of this model allows specification of trees that are conical, ellipsoidal, or concave, and with mixtures of these shapes in the top and bottom of the crown. The flexibility of this model was illustrated well by Pradal et al. (2007), below. \n",
    "\n",
    "<img src='../reports/figures/Pradal_2007_TreeModel.PNG' width = 380 align='left'>\n"
   ]
  },
  {
   "cell_type": "markdown",
   "metadata": {},
   "source": [
    "# Make your own tree\n",
    "Using the sliders below, you can adjust the parameters which determine the location, size, and shape of the tree crown."
   ]
  },
  {
   "cell_type": "code",
   "execution_count": 1,
   "metadata": {},
   "outputs": [
    {
     "data": {
      "application/vnd.jupyter.widget-view+json": {
       "model_id": "1172f008c025446a98caecd3dff7523b",
       "version_major": 2,
       "version_minor": 0
      },
      "text/plain": [
       "HBox(children=(Accordion(children=(VBox(children=(FloatSlider(value=0.0, description='x', max=10.0, min=-10.0,…"
      ]
     },
     "execution_count": 1,
     "metadata": {},
     "output_type": "execute_result"
    }
   ],
   "source": [
    "from forest3d.visualize import plot_tree_with_widgets\n",
    "\n",
    "plot_tree_with_widgets()"
   ]
  },
  {
   "cell_type": "markdown",
   "metadata": {},
   "source": [
    "### References\n",
    "Cescatti, A. (1997). \"Modelling the radiative transfer in discontinuous canopies of asymmetric crowns. I. Model structure and algorithms.\" Ecological Modelling 101: 263–274. \n",
    "\n",
    "Koop, H. (1989). Forest dynamics: SILVI-STAR: a comprehensive monitoring system. Springer: New York. \n",
    "\n",
    "Pradal, C.; Boudon, F.; Nouguier, C.; Chopard, J.; Godin, C. (2007). \"PlantGL: a Python-based geometric library for 3D plant modelling at different scales.\" Institut National de Recherche en Informatique et en Automatique: Sophia Antipolis, France. 39pp.  \n",
    "\n",
    "Pradal, C.; Boudon, F.; Nouguier, C.; Chopard, J.; Godin, C. (2009). \"PlantGL: A Python-based geometric library for 3D plant modelling at different scales.\" Graphical Models 71: 1–21.\n",
    "\n",
    "Sheng, Yongwei; Gong, P.; Biging, G. S. (2001). \"Model-Based Conifer-Crown Surface Reconstruction from High-Resolution Aerial Images.\" Photogrammetric Engineering & Remote Sensing 67: 957–965.  "
   ]
  }
 ],
 "metadata": {
  "kernelspec": {
   "display_name": "forest3d",
   "language": "python",
   "name": "python3"
  },
  "language_info": {
   "codemirror_mode": {
    "name": "ipython",
    "version": 3
   },
   "file_extension": ".py",
   "mimetype": "text/x-python",
   "name": "python",
   "nbconvert_exporter": "python",
   "pygments_lexer": "ipython3",
   "version": "3.12.7"
  }
 },
 "nbformat": 4,
 "nbformat_minor": 2
}
